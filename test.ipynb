{
 "cells": [
  {
   "cell_type": "code",
   "execution_count": 12,
   "id": "3d181707",
   "metadata": {},
   "outputs": [],
   "source": [
    "import reflectance \n"
   ]
  },
  {
   "cell_type": "code",
   "execution_count": 13,
   "id": "fccda9f4",
   "metadata": {},
   "outputs": [],
   "source": [
    "path_kpic = '/Users/huihaoz/Downloads/psisim-kpic/scr3/dmawet/ETC/HIResFITS_lib/phoenix.astro.physik.uni-goettingen.de/HIResFITS/PHOENIX-ACES-AGSS-COND-2011/Z-0.0/'\n",
    "\n",
    "\n",
    "wvs,spec=reflectance.Spectrum.load_phoenix_model(lambda_start=500,lambda_end=2500,steff=2800,path=path_kpic)"
   ]
  },
  {
   "cell_type": "code",
   "execution_count": 14,
   "id": "e10c2b39",
   "metadata": {},
   "outputs": [
    {
     "data": {
      "text/plain": [
       "array([ 500.001,  500.002,  500.003, ..., 2499.988, 2499.992, 2499.996])"
      ]
     },
     "execution_count": 14,
     "metadata": {},
     "output_type": "execute_result"
    }
   ],
   "source": [
    "wvs"
   ]
  },
  {
   "cell_type": "code",
   "execution_count": 15,
   "id": "8122d866",
   "metadata": {},
   "outputs": [
    {
     "data": {
      "text/plain": [
       "array([8.8701264e+18, 9.6527852e+18, 3.0288157e+19, ..., 6.9647566e+21,\n",
       "       6.9334937e+21, 6.8493355e+21], dtype=float32)"
      ]
     },
     "execution_count": 15,
     "metadata": {},
     "output_type": "execute_result"
    }
   ],
   "source": [
    "spec"
   ]
  }
 ],
 "metadata": {
  "kernelspec": {
   "display_name": "Python 3 (ipykernel)",
   "language": "python",
   "name": "python3"
  },
  "language_info": {
   "codemirror_mode": {
    "name": "ipython",
    "version": 3
   },
   "file_extension": ".py",
   "mimetype": "text/x-python",
   "name": "python",
   "nbconvert_exporter": "python",
   "pygments_lexer": "ipython3",
   "version": "3.10.11"
  }
 },
 "nbformat": 4,
 "nbformat_minor": 5
}
