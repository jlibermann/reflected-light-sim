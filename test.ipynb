{
 "cells": [
  {
   "cell_type": "code",
   "execution_count": 4,
   "id": "3d181707",
   "metadata": {},
   "outputs": [],
   "source": [
    "from reflected_light_sim import reflectance\n",
    "import astropy.units as u\n",
    "import astropy.constants as cons\n",
    "import numpy as np"
   ]
  },
  {
   "cell_type": "code",
   "execution_count": 5,
   "id": "fccda9f4",
   "metadata": {},
   "outputs": [
    {
     "ename": "FileNotFoundError",
     "evalue": "[Errno 2] No such file or directory: '/Users/huihaoz/Downloads/psisim-kpic/scr3/dmawet/ETC/HIResFITS_lib/phoenix.astro.physik.uni-goettingen.de/HIResFITS/PHOENIX-ACES-AGSS-COND-2011/Z-0.0/lte02800-4.50-0.0.PHOENIX-ACES-AGSS-COND-2011-HiRes.fits'",
     "output_type": "error",
     "traceback": [
      "\u001b[0;31m---------------------------------------------------------------------------\u001b[0m",
      "\u001b[0;31mFileNotFoundError\u001b[0m                         Traceback (most recent call last)",
      "Cell \u001b[0;32mIn[5], line 4\u001b[0m\n\u001b[1;32m      1\u001b[0m path_kpic \u001b[39m=\u001b[39m \u001b[39m'\u001b[39m\u001b[39m/Users/huihaoz/Downloads/psisim-kpic/scr3/dmawet/ETC/HIResFITS_lib/phoenix.astro.physik.uni-goettingen.de/HIResFITS/PHOENIX-ACES-AGSS-COND-2011/Z-0.0/\u001b[39m\u001b[39m'\u001b[39m\n\u001b[0;32m----> 4\u001b[0m wvs,spec\u001b[39m=\u001b[39mreflectance\u001b[39m.\u001b[39;49mSpectrum\u001b[39m.\u001b[39;49mload_phoenix_model(lambda_start\u001b[39m=\u001b[39;49m\u001b[39m500\u001b[39;49m,lambda_end\u001b[39m=\u001b[39;49m\u001b[39m2500\u001b[39;49m,steff\u001b[39m=\u001b[39;49m\u001b[39m2800\u001b[39;49m,path\u001b[39m=\u001b[39;49mpath_kpic)\n",
      "File \u001b[0;32m/mnt/c/Users/jzonk/Documents/Code_Astro/reflected-light-sim/reflected_light_sim/reflectance.py:45\u001b[0m, in \u001b[0;36mSpectrum.load_phoenix_model\u001b[0;34m(lambda_start, lambda_end, steff, path)\u001b[0m\n\u001b[1;32m     43\u001b[0m teff \u001b[39m=\u001b[39m\u001b[39mstr\u001b[39m(\u001b[39mint\u001b[39m(steff))\u001b[39m.\u001b[39mzfill(\u001b[39m5\u001b[39m)\n\u001b[1;32m     44\u001b[0m path_use \u001b[39m=\u001b[39m path \u001b[39m+\u001b[39m \u001b[39m'\u001b[39m\u001b[39mlte\u001b[39m\u001b[39m%s\u001b[39;00m\u001b[39m-4.50-0.0.PHOENIX-ACES-AGSS-COND-2011-HiRes.fits\u001b[39m\u001b[39m'\u001b[39m\u001b[39m%\u001b[39m(teff)\n\u001b[0;32m---> 45\u001b[0m f \u001b[39m=\u001b[39m fits\u001b[39m.\u001b[39;49mopen(path_use)\n\u001b[1;32m     46\u001b[0m spec \u001b[39m=\u001b[39m f[\u001b[39m0\u001b[39m]\u001b[39m.\u001b[39mdata \u001b[39m/\u001b[39m (\u001b[39m1e8\u001b[39m) \u001b[39m# ergs/s/cm2/cm to ergs/s/cm2/Angstrom for conversion\u001b[39;00m\n\u001b[1;32m     47\u001b[0m f\u001b[39m.\u001b[39mclose()\n",
      "File \u001b[0;32m~/anaconda3/envs/codeastro/lib/python3.10/site-packages/astropy/io/fits/hdu/hdulist.py:213\u001b[0m, in \u001b[0;36mfitsopen\u001b[0;34m(name, mode, memmap, save_backup, cache, lazy_load_hdus, ignore_missing_simple, use_fsspec, fsspec_kwargs, **kwargs)\u001b[0m\n\u001b[1;32m    210\u001b[0m \u001b[39mif\u001b[39;00m \u001b[39mnot\u001b[39;00m name:\n\u001b[1;32m    211\u001b[0m     \u001b[39mraise\u001b[39;00m \u001b[39mValueError\u001b[39;00m(\u001b[39mf\u001b[39m\u001b[39m\"\u001b[39m\u001b[39mEmpty filename: \u001b[39m\u001b[39m{\u001b[39;00mname\u001b[39m!r}\u001b[39;00m\u001b[39m\"\u001b[39m)\n\u001b[0;32m--> 213\u001b[0m \u001b[39mreturn\u001b[39;00m HDUList\u001b[39m.\u001b[39;49mfromfile(\n\u001b[1;32m    214\u001b[0m     name,\n\u001b[1;32m    215\u001b[0m     mode,\n\u001b[1;32m    216\u001b[0m     memmap,\n\u001b[1;32m    217\u001b[0m     save_backup,\n\u001b[1;32m    218\u001b[0m     cache,\n\u001b[1;32m    219\u001b[0m     lazy_load_hdus,\n\u001b[1;32m    220\u001b[0m     ignore_missing_simple,\n\u001b[1;32m    221\u001b[0m     use_fsspec\u001b[39m=\u001b[39;49muse_fsspec,\n\u001b[1;32m    222\u001b[0m     fsspec_kwargs\u001b[39m=\u001b[39;49mfsspec_kwargs,\n\u001b[1;32m    223\u001b[0m     \u001b[39m*\u001b[39;49m\u001b[39m*\u001b[39;49mkwargs,\n\u001b[1;32m    224\u001b[0m )\n",
      "File \u001b[0;32m~/anaconda3/envs/codeastro/lib/python3.10/site-packages/astropy/io/fits/hdu/hdulist.py:476\u001b[0m, in \u001b[0;36mHDUList.fromfile\u001b[0;34m(cls, fileobj, mode, memmap, save_backup, cache, lazy_load_hdus, ignore_missing_simple, **kwargs)\u001b[0m\n\u001b[1;32m    457\u001b[0m \u001b[39m@classmethod\u001b[39m\n\u001b[1;32m    458\u001b[0m \u001b[39mdef\u001b[39;00m \u001b[39mfromfile\u001b[39m(\n\u001b[1;32m    459\u001b[0m     \u001b[39mcls\u001b[39m,\n\u001b[0;32m   (...)\u001b[0m\n\u001b[1;32m    467\u001b[0m     \u001b[39m*\u001b[39m\u001b[39m*\u001b[39mkwargs,\n\u001b[1;32m    468\u001b[0m ):\n\u001b[1;32m    469\u001b[0m \u001b[39m    \u001b[39m\u001b[39m\"\"\"\u001b[39;00m\n\u001b[1;32m    470\u001b[0m \u001b[39m    Creates an `HDUList` instance from a file-like object.\u001b[39;00m\n\u001b[1;32m    471\u001b[0m \n\u001b[0;32m   (...)\u001b[0m\n\u001b[1;32m    474\u001b[0m \u001b[39m    documentation for details of the parameters accepted by this method).\u001b[39;00m\n\u001b[1;32m    475\u001b[0m \u001b[39m    \"\"\"\u001b[39;00m\n\u001b[0;32m--> 476\u001b[0m     \u001b[39mreturn\u001b[39;00m \u001b[39mcls\u001b[39;49m\u001b[39m.\u001b[39;49m_readfrom(\n\u001b[1;32m    477\u001b[0m         fileobj\u001b[39m=\u001b[39;49mfileobj,\n\u001b[1;32m    478\u001b[0m         mode\u001b[39m=\u001b[39;49mmode,\n\u001b[1;32m    479\u001b[0m         memmap\u001b[39m=\u001b[39;49mmemmap,\n\u001b[1;32m    480\u001b[0m         save_backup\u001b[39m=\u001b[39;49msave_backup,\n\u001b[1;32m    481\u001b[0m         cache\u001b[39m=\u001b[39;49mcache,\n\u001b[1;32m    482\u001b[0m         ignore_missing_simple\u001b[39m=\u001b[39;49mignore_missing_simple,\n\u001b[1;32m    483\u001b[0m         lazy_load_hdus\u001b[39m=\u001b[39;49mlazy_load_hdus,\n\u001b[1;32m    484\u001b[0m         \u001b[39m*\u001b[39;49m\u001b[39m*\u001b[39;49mkwargs,\n\u001b[1;32m    485\u001b[0m     )\n",
      "File \u001b[0;32m~/anaconda3/envs/codeastro/lib/python3.10/site-packages/astropy/io/fits/hdu/hdulist.py:1146\u001b[0m, in \u001b[0;36mHDUList._readfrom\u001b[0;34m(cls, fileobj, data, mode, memmap, cache, lazy_load_hdus, ignore_missing_simple, use_fsspec, fsspec_kwargs, **kwargs)\u001b[0m\n\u001b[1;32m   1143\u001b[0m \u001b[39mif\u001b[39;00m fileobj \u001b[39mis\u001b[39;00m \u001b[39mnot\u001b[39;00m \u001b[39mNone\u001b[39;00m:\n\u001b[1;32m   1144\u001b[0m     \u001b[39mif\u001b[39;00m \u001b[39mnot\u001b[39;00m \u001b[39misinstance\u001b[39m(fileobj, _File):\n\u001b[1;32m   1145\u001b[0m         \u001b[39m# instantiate a FITS file object (ffo)\u001b[39;00m\n\u001b[0;32m-> 1146\u001b[0m         fileobj \u001b[39m=\u001b[39m _File(\n\u001b[1;32m   1147\u001b[0m             fileobj,\n\u001b[1;32m   1148\u001b[0m             mode\u001b[39m=\u001b[39;49mmode,\n\u001b[1;32m   1149\u001b[0m             memmap\u001b[39m=\u001b[39;49mmemmap,\n\u001b[1;32m   1150\u001b[0m             cache\u001b[39m=\u001b[39;49mcache,\n\u001b[1;32m   1151\u001b[0m             use_fsspec\u001b[39m=\u001b[39;49muse_fsspec,\n\u001b[1;32m   1152\u001b[0m             fsspec_kwargs\u001b[39m=\u001b[39;49mfsspec_kwargs,\n\u001b[1;32m   1153\u001b[0m         )\n\u001b[1;32m   1154\u001b[0m     \u001b[39m# The Astropy mode is determined by the _File initializer if the\u001b[39;00m\n\u001b[1;32m   1155\u001b[0m     \u001b[39m# supplied mode was None\u001b[39;00m\n\u001b[1;32m   1156\u001b[0m     mode \u001b[39m=\u001b[39m fileobj\u001b[39m.\u001b[39mmode\n",
      "File \u001b[0;32m~/anaconda3/envs/codeastro/lib/python3.10/site-packages/astropy/io/fits/file.py:217\u001b[0m, in \u001b[0;36m_File.__init__\u001b[0;34m(self, fileobj, mode, memmap, overwrite, cache, use_fsspec, fsspec_kwargs)\u001b[0m\n\u001b[1;32m    215\u001b[0m     \u001b[39mself\u001b[39m\u001b[39m.\u001b[39m_open_fileobj(fileobj, mode, overwrite)\n\u001b[1;32m    216\u001b[0m \u001b[39melif\u001b[39;00m \u001b[39misinstance\u001b[39m(fileobj, (\u001b[39mstr\u001b[39m, \u001b[39mbytes\u001b[39m)):\n\u001b[0;32m--> 217\u001b[0m     \u001b[39mself\u001b[39;49m\u001b[39m.\u001b[39;49m_open_filename(fileobj, mode, overwrite)\n\u001b[1;32m    218\u001b[0m \u001b[39melse\u001b[39;00m:\n\u001b[1;32m    219\u001b[0m     \u001b[39mself\u001b[39m\u001b[39m.\u001b[39m_open_filelike(fileobj, mode, overwrite)\n",
      "File \u001b[0;32m~/anaconda3/envs/codeastro/lib/python3.10/site-packages/astropy/io/fits/file.py:626\u001b[0m, in \u001b[0;36m_File._open_filename\u001b[0;34m(self, filename, mode, overwrite)\u001b[0m\n\u001b[1;32m    623\u001b[0m ext \u001b[39m=\u001b[39m os\u001b[39m.\u001b[39mpath\u001b[39m.\u001b[39msplitext(\u001b[39mself\u001b[39m\u001b[39m.\u001b[39mname)[\u001b[39m1\u001b[39m]\n\u001b[1;32m    625\u001b[0m \u001b[39mif\u001b[39;00m \u001b[39mnot\u001b[39;00m \u001b[39mself\u001b[39m\u001b[39m.\u001b[39m_try_read_compressed(\u001b[39mself\u001b[39m\u001b[39m.\u001b[39mname, magic, mode, ext\u001b[39m=\u001b[39mext):\n\u001b[0;32m--> 626\u001b[0m     \u001b[39mself\u001b[39m\u001b[39m.\u001b[39m_file \u001b[39m=\u001b[39m \u001b[39mopen\u001b[39;49m(\u001b[39mself\u001b[39;49m\u001b[39m.\u001b[39;49mname, IO_FITS_MODES[mode])\n\u001b[1;32m    627\u001b[0m     \u001b[39mself\u001b[39m\u001b[39m.\u001b[39mclose_on_error \u001b[39m=\u001b[39m \u001b[39mTrue\u001b[39;00m\n\u001b[1;32m    629\u001b[0m \u001b[39m# Make certain we're back at the beginning of the file\u001b[39;00m\n\u001b[1;32m    630\u001b[0m \u001b[39m# BZ2File does not support seek when the file is open for writing, but\u001b[39;00m\n\u001b[1;32m    631\u001b[0m \u001b[39m# when opening a file for write, bz2.BZ2File always truncates anyway.\u001b[39;00m\n",
      "\u001b[0;31mFileNotFoundError\u001b[0m: [Errno 2] No such file or directory: '/Users/huihaoz/Downloads/psisim-kpic/scr3/dmawet/ETC/HIResFITS_lib/phoenix.astro.physik.uni-goettingen.de/HIResFITS/PHOENIX-ACES-AGSS-COND-2011/Z-0.0/lte02800-4.50-0.0.PHOENIX-ACES-AGSS-COND-2011-HiRes.fits'"
     ]
    }
   ],
   "source": [
    "path_kpic = '/Users/huihaoz/Downloads/psisim-kpic/scr3/dmawet/ETC/HIResFITS_lib/phoenix.astro.physik.uni-goettingen.de/HIResFITS/PHOENIX-ACES-AGSS-COND-2011/Z-0.0/'\n",
    "\n",
    "\n",
    "wvs,spec=reflectance.Spectrum.load_phoenix_model(lambda_start=500,lambda_end=2500,steff=2800,path=path_kpic)"
   ]
  },
  {
   "cell_type": "code",
   "execution_count": 3,
   "id": "e10c2b39",
   "metadata": {},
   "outputs": [
    {
     "data": {
      "text/plain": [
       "array([ 500.001,  500.002,  500.003, ..., 2499.988, 2499.992, 2499.996])"
      ]
     },
     "execution_count": 3,
     "metadata": {},
     "output_type": "execute_result"
    }
   ],
   "source": [
    "wvs"
   ]
  },
  {
   "cell_type": "code",
   "execution_count": 4,
   "id": "8122d866",
   "metadata": {},
   "outputs": [
    {
     "data": {
      "text/plain": [
       "array([8.8701264e+18, 9.6527852e+18, 3.0288157e+19, ..., 6.9647566e+21,\n",
       "       6.9334937e+21, 6.8493355e+21], dtype=float32)"
      ]
     },
     "execution_count": 4,
     "metadata": {},
     "output_type": "execute_result"
    }
   ],
   "source": [
    "spec"
   ]
  },
  {
   "cell_type": "code",
   "execution_count": 5,
   "id": "e95edbd6",
   "metadata": {},
   "outputs": [
    {
     "data": {
      "text/latex": [
       "$[3.0892855 \\times 10^{-6},~3.3618697 \\times 10^{-6},~1.0548752 \\times 10^{-5},~\\dots,~0.0024256838,~0.0024147956,~0.002385485] \\; \\mathrm{\\frac{ph}{nm\\,s\\,m^{2}}}$"
      ],
      "text/plain": [
       "<Quantity [3.08928553e-06, 3.36186974e-06, 1.05487520e-05, ...,\n",
       "           2.42568377e-03, 2.41479555e-03, 2.38548495e-03] ph / (nm s m2)>"
      ]
     },
     "execution_count": 5,
     "metadata": {},
     "output_type": "execute_result"
    }
   ],
   "source": [
    "d = 10 * u.pc\n",
    "rs = 2* u.R_sun\n",
    "rp = 2* u.R_jup\n",
    "a = 2 * u.AU\n",
    "alb = 0.3\n",
    "reflectance.Spectrum.cal_refflux_pl(d,spec,rs,rp,a,alb,wvs)"
   ]
  },
  {
   "cell_type": "code",
   "execution_count": null,
   "id": "98c25c58",
   "metadata": {},
   "outputs": [],
   "source": []
  }
 ],
 "metadata": {
  "kernelspec": {
   "display_name": "Python 3 (ipykernel)",
   "language": "python",
   "name": "python3"
  },
  "language_info": {
   "codemirror_mode": {
    "name": "ipython",
    "version": 3
   },
   "file_extension": ".py",
   "mimetype": "text/x-python",
   "name": "python",
   "nbconvert_exporter": "python",
   "pygments_lexer": "ipython3",
   "version": "3.10.11"
  }
 },
 "nbformat": 4,
 "nbformat_minor": 5
}
