{
 "cells": [
  {
   "cell_type": "code",
   "execution_count": 5,
   "id": "3d181707",
   "metadata": {},
   "outputs": [
    {
     "ename": "ModuleNotFoundError",
     "evalue": "No module named 'reflected_light_sim'",
     "output_type": "error",
     "traceback": [
      "\u001b[0;31m---------------------------------------------------------------------------\u001b[0m",
      "\u001b[0;31mModuleNotFoundError\u001b[0m                       Traceback (most recent call last)",
      "Cell \u001b[0;32mIn[5], line 1\u001b[0m\n\u001b[0;32m----> 1\u001b[0m \u001b[39mimport\u001b[39;00m \u001b[39mreflected_light_sim\u001b[39;00m\n\u001b[1;32m      2\u001b[0m \u001b[39mimport\u001b[39;00m \u001b[39mastropy\u001b[39;00m\u001b[39m.\u001b[39;00m\u001b[39munits\u001b[39;00m \u001b[39mas\u001b[39;00m \u001b[39mu\u001b[39;00m\n\u001b[1;32m      3\u001b[0m \u001b[39mimport\u001b[39;00m \u001b[39mastropy\u001b[39;00m\u001b[39m.\u001b[39;00m\u001b[39mconstants\u001b[39;00m \u001b[39mas\u001b[39;00m \u001b[39mcons\u001b[39;00m\n",
      "\u001b[0;31mModuleNotFoundError\u001b[0m: No module named 'reflected_light_sim'"
     ]
    }
   ],
   "source": [
    "import reflected_light_sim\n",
    "import astropy.units as u\n",
    "import astropy.constants as cons\n",
    "import numpy as np"
   ]
  },
  {
   "cell_type": "code",
   "execution_count": 2,
   "id": "fccda9f4",
   "metadata": {},
   "outputs": [],
   "source": [
    "path_kpic = '/Users/huihaoz/Downloads/psisim-kpic/scr3/dmawet/ETC/HIResFITS_lib/phoenix.astro.physik.uni-goettingen.de/HIResFITS/PHOENIX-ACES-AGSS-COND-2011/Z-0.0/'\n",
    "\n",
    "\n",
    "wvs,spec=reflectance.Spectrum.load_phoenix_model(lambda_start=500,lambda_end=2500,steff=2800,path=path_kpic)"
   ]
  },
  {
   "cell_type": "code",
   "execution_count": 3,
   "id": "e10c2b39",
   "metadata": {},
   "outputs": [
    {
     "data": {
      "text/plain": [
       "array([ 500.001,  500.002,  500.003, ..., 2499.988, 2499.992, 2499.996])"
      ]
     },
     "execution_count": 3,
     "metadata": {},
     "output_type": "execute_result"
    }
   ],
   "source": [
    "wvs"
   ]
  },
  {
   "cell_type": "code",
   "execution_count": 4,
   "id": "8122d866",
   "metadata": {},
   "outputs": [
    {
     "data": {
      "text/plain": [
       "array([8.8701264e+18, 9.6527852e+18, 3.0288157e+19, ..., 6.9647566e+21,\n",
       "       6.9334937e+21, 6.8493355e+21], dtype=float32)"
      ]
     },
     "execution_count": 4,
     "metadata": {},
     "output_type": "execute_result"
    }
   ],
   "source": [
    "spec"
   ]
  },
  {
   "cell_type": "code",
   "execution_count": 5,
   "id": "e95edbd6",
   "metadata": {},
   "outputs": [
    {
     "data": {
      "text/latex": [
       "$[3.0892855 \\times 10^{-6},~3.3618697 \\times 10^{-6},~1.0548752 \\times 10^{-5},~\\dots,~0.0024256838,~0.0024147956,~0.002385485] \\; \\mathrm{\\frac{ph}{nm\\,s\\,m^{2}}}$"
      ],
      "text/plain": [
       "<Quantity [3.08928553e-06, 3.36186974e-06, 1.05487520e-05, ...,\n",
       "           2.42568377e-03, 2.41479555e-03, 2.38548495e-03] ph / (nm s m2)>"
      ]
     },
     "execution_count": 5,
     "metadata": {},
     "output_type": "execute_result"
    }
   ],
   "source": [
    "d = 10 * u.pc\n",
    "rs = 2* u.R_sun\n",
    "rp = 2* u.R_jup\n",
    "a = 2 * u.AU\n",
    "alb = 0.3\n",
    "reflectance.Spectrum.cal_refflux_pl(d,spec,rs,rp,a,alb,wvs)"
   ]
  },
  {
   "cell_type": "code",
   "execution_count": null,
   "id": "98c25c58",
   "metadata": {},
   "outputs": [],
   "source": []
  }
 ],
 "metadata": {
  "kernelspec": {
   "display_name": "Python 3 (ipykernel)",
   "language": "python",
   "name": "python3"
  },
  "language_info": {
   "codemirror_mode": {
    "name": "ipython",
    "version": 3
   },
   "file_extension": ".py",
   "mimetype": "text/x-python",
   "name": "python",
   "nbconvert_exporter": "python",
   "pygments_lexer": "ipython3",
   "version": "3.10.11"
  }
 },
 "nbformat": 4,
 "nbformat_minor": 5
}
